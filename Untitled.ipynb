{
 "cells": [
  {
   "cell_type": "markdown",
   "id": "6e29c603-8b62-4755-bca4-2aa66991203f",
   "metadata": {},
   "source": [
    "Hi read me."
   ]
  },
  {
   "cell_type": "markdown",
   "id": "f7a21b30-5208-42f1-8025-9aae7450c413",
   "metadata": {},
   "source": [
    "test - revathi"
   ]
  },
  {
   "cell_type": "code",
   "execution_count": null,
   "id": "023deaa6-d8a4-47c7-8b03-23406edfad74",
   "metadata": {},
   "outputs": [],
   "source": []
  }
 ],
 "metadata": {
  "kernelspec": {
   "display_name": "Python 3 (ipykernel)",
   "language": "python",
   "name": "python3"
  },
  "language_info": {
   "codemirror_mode": {
    "name": "ipython",
    "version": 3
   },
   "file_extension": ".py",
   "mimetype": "text/x-python",
   "name": "python",
   "nbconvert_exporter": "python",
   "pygments_lexer": "ipython3",
   "version": "3.9.12"
  }
 },
 "nbformat": 4,
 "nbformat_minor": 5
}
