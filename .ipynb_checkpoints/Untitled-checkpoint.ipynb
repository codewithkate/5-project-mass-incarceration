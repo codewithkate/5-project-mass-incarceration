{
 "cells": [
  {
   "cell_type": "markdown",
   "id": "6e29c603-8b62-4755-bca4-2aa66991203f",
   "metadata": {},
   "source": [
    "Hi read me."
   ]
  },
  {
   "cell_type": "code",
   "execution_count": null,
   "id": "11e93c0b-c879-4ab5-8bfe-ab2c3527cd5e",
   "metadata": {},
   "outputs": [],
   "source": []
  }
 ],
 "metadata": {
  "kernelspec": {
   "display_name": "Python 3 (ipykernel)",
   "language": "python",
   "name": "python3"
  },
  "language_info": {
   "codemirror_mode": {
    "name": "ipython",
    "version": 3
   },
   "file_extension": ".py",
   "mimetype": "text/x-python",
   "name": "python",
   "nbconvert_exporter": "python",
   "pygments_lexer": "ipython3",
   "version": "3.9.13"
  }
 },
 "nbformat": 4,
 "nbformat_minor": 5
}
