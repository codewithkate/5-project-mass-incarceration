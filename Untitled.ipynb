{
 "cells": [
  {
   "cell_type": "code",
   "execution_count": 1,
   "id": "43d2f70b-db05-4f43-b264-883c32004e38",
   "metadata": {},
   "outputs": [],
   "source": [
    "import pandas as pd\n",
    "import numpy as np\n",
    "import string"
   ]
  },
  {
   "cell_type": "code",
   "execution_count": 2,
   "id": "11e93c0b-c879-4ab5-8bfe-ab2c3527cd5e",
   "metadata": {},
   "outputs": [
    {
     "data": {
      "text/plain": [
       "(919129, 1)"
      ]
     },
     "execution_count": 2,
     "metadata": {},
     "output_type": "execute_result"
    }
   ],
   "source": [
    "dat_file = pd.read_csv('./BookerReport2012/bookreport2012.dat')\n",
    "dat_file.shape"
   ]
  },
  {
   "cell_type": "code",
   "execution_count": 3,
   "id": "ddd70d8b-8130-4a72-8e86-b431abbfe4d4",
   "metadata": {},
   "outputs": [],
   "source": [
    "def set_columns(df, column_names: list):\n",
    "    '''\n",
    "    Create columns from a new row.\n",
    "    '''\n",
    "    df.loc[len(df.index)+1] = column_names\n",
    "    df.columns = df.iloc[-1]\n",
    "    df.drop(df.tail(1).index,inplace=True)\n",
    "    \n",
    "set_columns(dat_file, column_names='entries')"
   ]
  },
  {
   "cell_type": "code",
   "execution_count": 4,
   "id": "d39277b8-3340-41a7-8ddd-9dbf8453b574",
   "metadata": {},
   "outputs": [],
   "source": [
    "sas_columns = [\n",
    "    ('ACCAP', 1), ('AGE', (2,3)),('GGDUM', 4),\n",
    "    ('BOOKER2', 5), ('CAREER', 6),('AROFFAP', 7),\n",
    "    ('CIRCDIST', (8,9)), ('IMPACTOL', 10),('MPCTCHC', 11),\n",
    "    ('MITDUM', 12), ('MONCIRC', (13,14)),('ONSEX', 15),\n",
    "    ('NEWCIT', 16), ('NEWCNVTN', 17),('EWEDUC', 18),\n",
    "    ('NEWRACE', 19), ('OFFTYPE2', (20,21)),('ERIOD', 22),\n",
    "    ('PRIMARY', (23,24)), ('QUARTER', 25),('A', 26),\n",
    "    ('SAFEVALVE', 27), ('SENTIMP', 28),('OTCHPTS', (29,30)),\n",
    "    ('WEAPON', 31), ('XCRHISSR', 32),('LMIN', (33,35)),\n",
    "    ('FY', (36,39)), ('USSCIDN', (40,46)),('ENSPLT0', (47,64)),\n",
    "    ('LOSS_2B', (65,76)), ('GDL',  (77,82))\n",
    "]"
   ]
  },
  {
   "cell_type": "markdown",
   "id": "d20fc01c-da83-4431-b307-8d26079cc897",
   "metadata": {
    "tags": []
   },
   "source": [
    "```Python\n",
    "df_filled_with_nans #shape should be len(sas_column_thing), len(that_dat_file)\n",
    "\n",
    "for row_num, line_of_eightytwo_chars in enumerate(that_dat_file):\n",
    "    for entry in sas_column_thing:\n",
    "        column_name = entry[0]\n",
    "        column_start, column_end = entry[1], entry[1]\n",
    "        if len(entry) > 2:\n",
    "            column_end = entry[2]\n",
    "\n",
    "    df_filled_with_nans.loc[column_name, row_num] = line_of_eightytwo_chars[column_start - 1, column_end]\n",
    "```"
   ]
  },
  {
   "cell_type": "code",
   "execution_count": 5,
   "id": "abce9da6-a374-484d-8dda-160868ab157d",
   "metadata": {},
   "outputs": [
    {
     "ename": "IndexError",
     "evalue": "only integers, slices (`:`), ellipsis (`...`), numpy.newaxis (`None`) and integer or boolean arrays are valid indices",
     "output_type": "error",
     "traceback": [
      "\u001b[0;31m---------------------------------------------------------------------------\u001b[0m",
      "\u001b[0;31mIndexError\u001b[0m                                Traceback (most recent call last)",
      "\u001b[0;32m/var/folders/7l/441dnk_52sgfldpwf_5_7dmr0000gn/T/ipykernel_26493/2873492798.py\u001b[0m in \u001b[0;36m<module>\u001b[0;34m\u001b[0m\n\u001b[1;32m     11\u001b[0m             \u001b[0mcolumn_end\u001b[0m \u001b[0;34m=\u001b[0m \u001b[0mentry\u001b[0m\u001b[0;34m[\u001b[0m\u001b[0;36m1\u001b[0m\u001b[0;34m]\u001b[0m\u001b[0;34m\u001b[0m\u001b[0;34m\u001b[0m\u001b[0m\n\u001b[1;32m     12\u001b[0m \u001b[0;34m\u001b[0m\u001b[0m\n\u001b[0;32m---> 13\u001b[0;31m         \u001b[0mdf_with_nans\u001b[0m\u001b[0;34m.\u001b[0m\u001b[0mloc\u001b[0m\u001b[0;34m[\u001b[0m\u001b[0mcolumn_name\u001b[0m\u001b[0;34m,\u001b[0m \u001b[0mrow_num\u001b[0m\u001b[0;34m]\u001b[0m \u001b[0;34m=\u001b[0m \u001b[0mvalues\u001b[0m\u001b[0;34m[\u001b[0m\u001b[0mcolumn_start\u001b[0m \u001b[0;34m-\u001b[0m \u001b[0;36m1\u001b[0m\u001b[0;34m:\u001b[0m \u001b[0mcolumn_end\u001b[0m\u001b[0;34m-\u001b[0m\u001b[0;36m1\u001b[0m\u001b[0;34m]\u001b[0m\u001b[0;34m\u001b[0m\u001b[0;34m\u001b[0m\u001b[0m\n\u001b[0m",
      "\u001b[0;32m~/opt/anaconda3/lib/python3.9/site-packages/pandas/core/indexing.py\u001b[0m in \u001b[0;36m__setitem__\u001b[0;34m(self, key, value)\u001b[0m\n\u001b[1;32m    714\u001b[0m \u001b[0;34m\u001b[0m\u001b[0m\n\u001b[1;32m    715\u001b[0m         \u001b[0miloc\u001b[0m \u001b[0;34m=\u001b[0m \u001b[0mself\u001b[0m \u001b[0;32mif\u001b[0m \u001b[0mself\u001b[0m\u001b[0;34m.\u001b[0m\u001b[0mname\u001b[0m \u001b[0;34m==\u001b[0m \u001b[0;34m\"iloc\"\u001b[0m \u001b[0;32melse\u001b[0m \u001b[0mself\u001b[0m\u001b[0;34m.\u001b[0m\u001b[0mobj\u001b[0m\u001b[0;34m.\u001b[0m\u001b[0miloc\u001b[0m\u001b[0;34m\u001b[0m\u001b[0;34m\u001b[0m\u001b[0m\n\u001b[0;32m--> 716\u001b[0;31m         \u001b[0miloc\u001b[0m\u001b[0;34m.\u001b[0m\u001b[0m_setitem_with_indexer\u001b[0m\u001b[0;34m(\u001b[0m\u001b[0mindexer\u001b[0m\u001b[0;34m,\u001b[0m \u001b[0mvalue\u001b[0m\u001b[0;34m,\u001b[0m \u001b[0mself\u001b[0m\u001b[0;34m.\u001b[0m\u001b[0mname\u001b[0m\u001b[0;34m)\u001b[0m\u001b[0;34m\u001b[0m\u001b[0;34m\u001b[0m\u001b[0m\n\u001b[0m\u001b[1;32m    717\u001b[0m \u001b[0;34m\u001b[0m\u001b[0m\n\u001b[1;32m    718\u001b[0m     \u001b[0;32mdef\u001b[0m \u001b[0m_validate_key\u001b[0m\u001b[0;34m(\u001b[0m\u001b[0mself\u001b[0m\u001b[0;34m,\u001b[0m \u001b[0mkey\u001b[0m\u001b[0;34m,\u001b[0m \u001b[0maxis\u001b[0m\u001b[0;34m:\u001b[0m \u001b[0mint\u001b[0m\u001b[0;34m)\u001b[0m\u001b[0;34m:\u001b[0m\u001b[0;34m\u001b[0m\u001b[0;34m\u001b[0m\u001b[0m\n",
      "\u001b[0;32m~/opt/anaconda3/lib/python3.9/site-packages/pandas/core/indexing.py\u001b[0m in \u001b[0;36m_setitem_with_indexer\u001b[0;34m(self, indexer, value, name)\u001b[0m\n\u001b[1;32m   1636\u001b[0m                                 \u001b[0;31m# if not Series (in which case we need to align),\u001b[0m\u001b[0;34m\u001b[0m\u001b[0;34m\u001b[0m\u001b[0m\n\u001b[1;32m   1637\u001b[0m                                 \u001b[0;31m#  we can short-circuit\u001b[0m\u001b[0;34m\u001b[0m\u001b[0;34m\u001b[0m\u001b[0m\n\u001b[0;32m-> 1638\u001b[0;31m                                 \u001b[0mempty_value\u001b[0m\u001b[0;34m[\u001b[0m\u001b[0mindexer\u001b[0m\u001b[0;34m[\u001b[0m\u001b[0;36m0\u001b[0m\u001b[0;34m]\u001b[0m\u001b[0;34m]\u001b[0m \u001b[0;34m=\u001b[0m \u001b[0marr\u001b[0m\u001b[0;34m\u001b[0m\u001b[0;34m\u001b[0m\u001b[0m\n\u001b[0m\u001b[1;32m   1639\u001b[0m                                 \u001b[0mself\u001b[0m\u001b[0;34m.\u001b[0m\u001b[0mobj\u001b[0m\u001b[0;34m[\u001b[0m\u001b[0mkey\u001b[0m\u001b[0;34m]\u001b[0m \u001b[0;34m=\u001b[0m \u001b[0mempty_value\u001b[0m\u001b[0;34m\u001b[0m\u001b[0;34m\u001b[0m\u001b[0m\n\u001b[1;32m   1640\u001b[0m                                 \u001b[0;32mreturn\u001b[0m\u001b[0;34m\u001b[0m\u001b[0;34m\u001b[0m\u001b[0m\n",
      "\u001b[0;31mIndexError\u001b[0m: only integers, slices (`:`), ellipsis (`...`), numpy.newaxis (`None`) and integer or boolean arrays are valid indices"
     ]
    }
   ],
   "source": [
    "df_with_nans = pd.DataFrame(np.empty((dat_file.shape[0], len(sas_columns))), columns=[i[0] for i in sas_columns])\n",
    "\n",
    "for row_num, values in enumerate(dat_file.values):\n",
    "    for entry in sas_columns:\n",
    "        column_name = entry[0]\n",
    "        try:\n",
    "            column_start = entry[1][0]\n",
    "            column_end = entry[1][1]\n",
    "        except:\n",
    "            column_start = entry[1]\n",
    "            column_end = entry[1]\n",
    "            \n",
    "        df_with_nans.loc[column_name, row_num] = values[column_start - 1: column_end-1]"
   ]
  },
  {
   "cell_type": "code",
   "execution_count": null,
   "id": "a3c8029d-3826-4f2e-8f24-7d7a9ffbd69e",
   "metadata": {},
   "outputs": [],
   "source": [
    "da.loc[dat_file[column_name] == values]"
   ]
  },
  {
   "cell_type": "code",
   "execution_count": null,
   "id": "543e3b3c-6d5c-42ca-b43f-c4c912f8df52",
   "metadata": {},
   "outputs": [],
   "source": []
  }
 ],
 "metadata": {
  "kernelspec": {
   "display_name": "Python 3 (ipykernel)",
   "language": "python",
   "name": "python3"
  },
  "language_info": {
   "codemirror_mode": {
    "name": "ipython",
    "version": 3
   },
   "file_extension": ".py",
   "mimetype": "text/x-python",
   "name": "python",
   "nbconvert_exporter": "python",
   "pygments_lexer": "ipython3",
   "version": "3.9.13"
  }
 },
 "nbformat": 4,
 "nbformat_minor": 5
}
