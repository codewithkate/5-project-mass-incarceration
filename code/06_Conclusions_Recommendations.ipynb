{
 "cells": [
  {
   "cell_type": "markdown",
   "id": "7aa4edc8-f3a1-48aa-bdcf-959721e90d6e",
   "metadata": {},
   "source": [
    "# Conclusions and Recommendations \n",
    "---"
   ]
  },
  {
   "cell_type": "markdown",
   "id": "92a8e54b-a177-4b32-af50-c44b7766f6c4",
   "metadata": {},
   "source": [
    "We found that over time, sentencing was becoming less indicative of crime features \n",
    "and more indicative of time of year, sentencing time period, and the district where sentencing took place. \n",
    "There was a focus on guideline minimums put in place by the Booker decision and other decisions similar in nature during the time period of 1996-2011.\n",
    "These guideline decisions were weighted greater than crime related features and \n",
    "overall sentencing impact. We also found biases in data collection, where documented verses undocumneted immigrants were grouped together, we found biases\n",
    "in gender assumption, as well as in race. Based on this information, our recommendation is the following: \n",
    "\n",
    "1. To inform research for lobbying efforts on federal sentencing guidelines\n",
    "2. To target politicians from circuit districts with high bias rates \n",
    "3. To focus on reducing bias in federal sentencing guidelines\n",
    "\n",
    "As sentencing is a complex, multi-factorial issue, there is more research to be done to provide further recommendations. \n",
    "Continued research should implemented to \n",
    "look more deeply into the specific districts where bias may be occuring, and to further look into the specific population groups these biases are impacting. Narrowing down specific targeted features will also provide a clearer understanding of the direct impact these features have\n",
    "on sentencing outcomes. Looking at the negative class predictors would also provide a more in depth analysis and understanding around feature importances and their true impact on sentencing outcomes. \n",
    "\n",
    "---"
   ]
  },
  {
   "cell_type": "code",
   "execution_count": null,
   "id": "b4daf66c-5e93-40d7-a52d-9ae07ab05886",
   "metadata": {},
   "outputs": [],
   "source": []
  }
 ],
 "metadata": {
  "kernelspec": {
   "display_name": "Python [conda env:dsi]",
   "language": "python",
   "name": "conda-env-dsi-py"
  },
  "language_info": {
   "codemirror_mode": {
    "name": "ipython",
    "version": 3
   },
   "file_extension": ".py",
   "mimetype": "text/x-python",
   "name": "python",
   "nbconvert_exporter": "python",
   "pygments_lexer": "ipython3",
   "version": "3.9.7"
  }
 },
 "nbformat": 4,
 "nbformat_minor": 5
}
